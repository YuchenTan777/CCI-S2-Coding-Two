{
  "nbformat": 4,
  "nbformat_minor": 0,
  "metadata": {
    "colab": {
      "name": "Untitled1.ipynb",
      "provenance": []
    },
    "kernelspec": {
      "name": "python3",
      "display_name": "Python 3"
    },
    "language_info": {
      "name": "python"
    }
  },
  "cells": [
    {
      "cell_type": "code",
      "metadata": {
        "id": "nMMe8K1UbEwn"
      },
      "source": [
        "import requests\n",
        "from bs4 import BeautifulSoup\n",
        "from gensim.summarization import summarize\n",
        "from gensim.summarization import keywords"
      ],
      "execution_count": null,
      "outputs": []
    },
    {
      "cell_type": "code",
      "metadata": {
        "id": "5OfPOUyfbIQ-"
      },
      "source": [
        "url = 'https://www.npr.org/2019/07/10/740387601/university-of-texas-austin-promises-free-tuition-for-low-income-students-in-2020'\n",
        "page = requests.get(url).text"
      ],
      "execution_count": null,
      "outputs": []
    },
    {
      "cell_type": "code",
      "metadata": {
        "id": "94NjTngbbWve"
      },
      "source": [
        "# Turn page into BeautifulSoup object to access HTML tags\n",
        "soup = BeautifulSoup(page)"
      ],
      "execution_count": null,
      "outputs": []
    },
    {
      "cell_type": "code",
      "metadata": {
        "id": "CmGMgE8kbqNk"
      },
      "source": [
        "# Get headline\n",
        "headline = soup.find('h1').get_text()"
      ],
      "execution_count": null,
      "outputs": []
    },
    {
      "cell_type": "code",
      "metadata": {
        "colab": {
          "base_uri": "https://localhost:8080/"
        },
        "id": "k1w6yViRbzAW",
        "outputId": "cb9206af-a347-4bcc-d0f0-14794ee00cdb"
      },
      "source": [
        "# Get text from all <p> tags.\n",
        "p_tags = soup.find_all('p')\n",
        "# Get the text from each of the “p” tags and strip surrounding whitespace.\n",
        "p_tags_text = [tag.get_text().strip() for tag in p_tags]\n",
        "print(p_tags_text)"
      ],
      "execution_count": null,
      "outputs": [
        {
          "output_type": "stream",
          "text": [
            "['Vanessa Romo', 'Claire McInerny', 'From', 'The University of Texas-Austin announced Tuesday it is offering full tuition scholarships to in-state undergraduates whose families make $65,000 or less a year.\\n                \\n                \\n                    \\n                    Jon Herskovitz/Reuters\\n                    \\n                \\nhide caption', \"Four year colleges and universities have difficulty recruiting talented students from the lower end of the economic spectrum who can't afford to attend such institutions without taking on massive debt. To remedy that — at least in part — the University of Texas-Austin announced it is offering full tuition scholarships to in-state undergraduates whose families make $65,000 or less per year.\", \"The University of Texas System Board of Regents voted unanimously on Tuesday to establish a $160 million endowment, drawing from the state's Permanent University Fund to begin the program in the fall of 2020.\", '\"Recognizing both the need for improved access to higher education and the high value of a UT Austin degree, we are dedicating a distribution from the Permanent University Fund to establish an endowment that will directly benefit students and make their degrees more affordable,\" Chairman of the Board of Regents Kevin Eltife said after the vote.', '\"This will benefit students of our great state for years to come,\" he added.', 'The endowment — which includes money from oil and gas royalties earned on state-owned land in West Texas — more than doubles an existing program offering free tuition to students whose families make less than $30,000. It also expands financial assistance to middle class students whose families earn up to $125,000 a year, compared to the current $100,000.', \"UT-Austin is among the Texas system's more affordable universities; tuition and fees cost about $10,500. The endowment will foot the bill for those charges but not additional living expenses, including room and board, which can add another $17,000 in annual fees.\", 'Officials expect about 8,600 students — nearly a quarter of undergraduates, including those already enrolled — will benefit from the full tuition program and another 5,700 will gain access to additional financial support, the release said. Transfer students will also be eligible, but graduate students will not.', '\"There is no greater engine of social and economic mobility than a college degree, and this initiative ensures that more Texans will benefit from a high-quality UT Austin education,\" University Chancellor James Milliken said in a statement.', 'Cindy Muñoz, an incoming freshman from Houston, was on campus Wednesday for orientation. She was thrilled to learn of the endowment. Her mother is a single parent who has been working as a housekeeper and doing other odd jobs to make ends meet.', 'Until Tuesday Muñoz planned to pay for most of her college with loans. \"I knew I was going to go into student debt,\" she said, adding that she was willing to take on the loans to go to her dream school.', '\"I had that already in my head because my sister went to college and she had to take out loans, and she\\'s still dealing with loans today and she\\'s 38 years old,\" Muñoz said.', \"Once it goes into effect, the new financial aid program will apply to Muñoz and cover all of her tuition. She said she'll only need loans to pay for some of her living expenses.\", '\"It kind of makes me feel like I chose the right school,\" Munoz said. \"Because a school that is willing to see past your socio-economic status, look at you as a student, a person who just wants to advance their education and pursue a career, I think they look past monetary issues and they\\'re like, \\'You want to do this? Then we\\'re going to help you out.\\' \"', 'The school noted it landed on the $65,000 cap because the average median household income in Texas in 2017 was $59,206.', 'As tuition rates continue to climb and financial aid has continued to lag behind, a growing number of public and private four-year institutions are offering free tuition to students below a certain income.', \"In 2008, Texas A&M began offering free tuition to students whose families' income was under $60,000. Michigan established the Kalamazoo Promise, which covers four years of tuition at any public college in the state as well as 15 private colleges. Louisiana offers a more restrictive program that comes with certain caveats, including a minimum aptitude test score.\", 'Last year, New York launched The Excelsior Scholarship, allowing middle-class families and individuals making up to $125,000 a year to qualify for tuition-free enrollment at all CUNY and SUNY two and four-year colleges.', 'But some states are finding it difficult to sustain such programs. Oregon launched the Oregon Promise in 2016 but the program there had to be scaled back after a budget shortage, Pew reported.', \"Editor's note: NPR member station KUT's broadcast license is owned by the University of Texas. Its newsroom operates independently.\", 'NPR thanks our sponsors', 'Become an NPR sponsor']\n"
          ],
          "name": "stdout"
        }
      ]
    },
    {
      "cell_type": "code",
      "metadata": {
        "colab": {
          "base_uri": "https://localhost:8080/"
        },
        "id": "tmvNPqp1cuA6",
        "outputId": "b09a39bb-e6db-41bf-e3f5-478f65294576"
      },
      "source": [
        "# Filter out sentences that contain newline characters '\\n' or don't contain periods.\n",
        "sentence_list = [sentence for sentence in p_tags_text if not '\\n' in sentence]\n",
        "sentence_list = [sentence for sentence in sentence_list if '.' in sentence]\n",
        "# Combine list items into string.\n",
        "article = ' '.join(sentence_list)\n",
        "print(article)"
      ],
      "execution_count": null,
      "outputs": [
        {
          "output_type": "stream",
          "text": [
            "Four year colleges and universities have difficulty recruiting talented students from the lower end of the economic spectrum who can't afford to attend such institutions without taking on massive debt. To remedy that — at least in part — the University of Texas-Austin announced it is offering full tuition scholarships to in-state undergraduates whose families make $65,000 or less per year. The University of Texas System Board of Regents voted unanimously on Tuesday to establish a $160 million endowment, drawing from the state's Permanent University Fund to begin the program in the fall of 2020. \"Recognizing both the need for improved access to higher education and the high value of a UT Austin degree, we are dedicating a distribution from the Permanent University Fund to establish an endowment that will directly benefit students and make their degrees more affordable,\" Chairman of the Board of Regents Kevin Eltife said after the vote. \"This will benefit students of our great state for years to come,\" he added. The endowment — which includes money from oil and gas royalties earned on state-owned land in West Texas — more than doubles an existing program offering free tuition to students whose families make less than $30,000. It also expands financial assistance to middle class students whose families earn up to $125,000 a year, compared to the current $100,000. UT-Austin is among the Texas system's more affordable universities; tuition and fees cost about $10,500. The endowment will foot the bill for those charges but not additional living expenses, including room and board, which can add another $17,000 in annual fees. Officials expect about 8,600 students — nearly a quarter of undergraduates, including those already enrolled — will benefit from the full tuition program and another 5,700 will gain access to additional financial support, the release said. Transfer students will also be eligible, but graduate students will not. \"There is no greater engine of social and economic mobility than a college degree, and this initiative ensures that more Texans will benefit from a high-quality UT Austin education,\" University Chancellor James Milliken said in a statement. Cindy Muñoz, an incoming freshman from Houston, was on campus Wednesday for orientation. She was thrilled to learn of the endowment. Her mother is a single parent who has been working as a housekeeper and doing other odd jobs to make ends meet. Until Tuesday Muñoz planned to pay for most of her college with loans. \"I knew I was going to go into student debt,\" she said, adding that she was willing to take on the loans to go to her dream school. \"I had that already in my head because my sister went to college and she had to take out loans, and she's still dealing with loans today and she's 38 years old,\" Muñoz said. Once it goes into effect, the new financial aid program will apply to Muñoz and cover all of her tuition. She said she'll only need loans to pay for some of her living expenses. \"It kind of makes me feel like I chose the right school,\" Munoz said. \"Because a school that is willing to see past your socio-economic status, look at you as a student, a person who just wants to advance their education and pursue a career, I think they look past monetary issues and they're like, 'You want to do this? Then we're going to help you out.' \" The school noted it landed on the $65,000 cap because the average median household income in Texas in 2017 was $59,206. As tuition rates continue to climb and financial aid has continued to lag behind, a growing number of public and private four-year institutions are offering free tuition to students below a certain income. In 2008, Texas A&M began offering free tuition to students whose families' income was under $60,000. Michigan established the Kalamazoo Promise, which covers four years of tuition at any public college in the state as well as 15 private colleges. Louisiana offers a more restrictive program that comes with certain caveats, including a minimum aptitude test score. Last year, New York launched The Excelsior Scholarship, allowing middle-class families and individuals making up to $125,000 a year to qualify for tuition-free enrollment at all CUNY and SUNY two and four-year colleges. But some states are finding it difficult to sustain such programs. Oregon launched the Oregon Promise in 2016 but the program there had to be scaled back after a budget shortage, Pew reported. Editor's note: NPR member station KUT's broadcast license is owned by the University of Texas. Its newsroom operates independently.\n"
          ],
          "name": "stdout"
        }
      ]
    },
    {
      "cell_type": "code",
      "metadata": {
        "colab": {
          "base_uri": "https://localhost:8080/"
        },
        "id": "R_ObrmLcc9Rb",
        "outputId": "1bbc8095-63cd-4d34-ffdc-1886ffd508b7"
      },
      "source": [
        "summary = summarize(article, ratio=0.3)\n",
        "print(summary)"
      ],
      "execution_count": null,
      "outputs": [
        {
          "output_type": "stream",
          "text": [
            "Four year colleges and universities have difficulty recruiting talented students from the lower end of the economic spectrum who can't afford to attend such institutions without taking on massive debt.\n",
            "To remedy that — at least in part — the University of Texas-Austin announced it is offering full tuition scholarships to in-state undergraduates whose families make $65,000 or less per year.\n",
            "The University of Texas System Board of Regents voted unanimously on Tuesday to establish a $160 million endowment, drawing from the state's Permanent University Fund to begin the program in the fall of 2020.\n",
            "\"Recognizing both the need for improved access to higher education and the high value of a UT Austin degree, we are dedicating a distribution from the Permanent University Fund to establish an endowment that will directly benefit students and make their degrees more affordable,\" Chairman of the Board of Regents Kevin Eltife said after the vote.\n",
            "The endowment — which includes money from oil and gas royalties earned on state-owned land in West Texas — more than doubles an existing program offering free tuition to students whose families make less than $30,000.\n",
            "Officials expect about 8,600 students — nearly a quarter of undergraduates, including those already enrolled — will benefit from the full tuition program and another 5,700 will gain access to additional financial support, the release said.\n",
            "As tuition rates continue to climb and financial aid has continued to lag behind, a growing number of public and private four-year institutions are offering free tuition to students below a certain income.\n",
            "In 2008, Texas A&M began offering free tuition to students whose families' income was under $60,000.\n",
            "Michigan established the Kalamazoo Promise, which covers four years of tuition at any public college in the state as well as 15 private colleges.\n"
          ],
          "name": "stdout"
        }
      ]
    },
    {
      "cell_type": "code",
      "metadata": {
        "colab": {
          "base_uri": "https://localhost:8080/"
        },
        "id": "JY_CjkcGeEAo",
        "outputId": "e98317fe-a1db-4fdf-b6b0-c3099096fa6b"
      },
      "source": [
        "print(keywords(article,ratio=0.5))"
      ],
      "execution_count": null,
      "outputs": [
        {
          "output_type": "stream",
          "text": [
            "student\n",
            "munoz\n",
            "financial\n",
            "universities\n",
            "university\n",
            "said\n",
            "program\n",
            "programs\n",
            "includes\n",
            "including\n",
            "economic\n",
            "college\n",
            "year colleges\n",
            "years\n",
            "school\n",
            "austin\n",
            "fees\n",
            "incoming\n",
            "recruiting talented students\n",
            "tuition scholarships\n",
            "offering\n",
            "offers\n",
            "state\n",
            "states\n",
            "loans\n",
            "high\n",
            "end\n",
            "ends\n",
            "operates\n",
            "endowment\n",
            "access\n",
            "education\n",
            "scholarship\n",
            "families\n",
            "oregon\n",
            "aptitude test\n",
            "median household income\n",
            "free\n",
            "class\n",
            "new\n",
            "shortage\n",
            "reported\n",
            "officials\n",
            "pew\n",
            "monetary\n",
            "vote\n",
            "owned\n",
            "past\n",
            "regents voted\n",
            "npr member station\n",
            "status look\n",
            "royalties earned\n",
            "texas\n",
            "benefit\n",
            "debt\n",
            "promise\n",
            "cindy\n",
            "makes\n",
            "initiative ensures\n",
            "odd jobs\n",
            "establish\n",
            "michigan established\n",
            "single parent\n",
            "greater engine\n",
            "individuals making\n",
            "sister went\n",
            "broadcast license\n",
            "growing number\n",
            "campus\n",
            "feel like\n",
            "wednesday\n",
            "afford\n",
            "affordable\n",
            "kevin\n",
            "earn\n",
            "noted\n",
            "note\n",
            "undergraduates\n"
          ],
          "name": "stdout"
        }
      ]
    },
    {
      "cell_type": "code",
      "metadata": {
        "colab": {
          "base_uri": "https://localhost:8080/"
        },
        "id": "CIlRqvvaeexa",
        "outputId": "acdbd64f-9305-4f35-eea5-28c6337a476d"
      },
      "source": [
        "print(keywords(summary,ratio=0.5))"
      ],
      "execution_count": null,
      "outputs": [
        {
          "output_type": "stream",
          "text": [
            "financial\n",
            "tuition\n",
            "austin\n",
            "college\n",
            "year colleges\n",
            "universities\n",
            "university\n",
            "royalties\n",
            "access\n",
            "endowment\n",
            "income\n",
            "offering\n",
            "program\n",
            "recruiting talented students\n",
            "texas\n",
            "years\n",
            "includes\n",
            "including\n",
            "vote\n",
            "benefit\n",
            "regents voted\n",
            "eltife said\n",
            "undergraduates\n",
            "state\n",
            "kevin\n",
            "rates\n",
            "lower end\n",
            "high value\n",
            "higher education\n",
            "chairman\n",
            "afford\n",
            "affordable\n",
            "massive\n",
            "debt\n",
            "number\n",
            "expect\n"
          ],
          "name": "stdout"
        }
      ]
    }
  ]
}